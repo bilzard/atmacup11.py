{
  "nbformat": 4,
  "nbformat_minor": 2,
  "metadata": {
    "colab": {
      "name": "dino_pretrain.ipynb",
      "provenance": [],
      "collapsed_sections": []
    },
    "kernelspec": {
      "name": "python3",
      "display_name": "Python 3.8.10 64-bit ('pytorch_x86': conda)"
    },
    "language_info": {
      "name": "python",
      "version": "3.8.10"
    },
    "accelerator": "GPU",
    "interpreter": {
      "hash": "b174428111d2db4a9ded676614cee9ccc492d6dcd8783b50ca0f899f7c7626ed"
    }
  },
  "cells": [
    {
      "cell_type": "code",
      "execution_count": null,
      "source": [
        "from google.colab import drive\n",
        "drive.mount('/content/drive')"
      ],
      "outputs": [],
      "metadata": {
        "colab": {
          "base_uri": "https://localhost:8080/"
        },
        "id": "i0GakJnQ-LzT",
        "outputId": "0fab4ab8-0dfb-470f-9adb-f6c60bb8aab3"
      }
    },
    {
      "cell_type": "code",
      "execution_count": null,
      "source": [
        "! git clone https://github.com/facebookresearch/dino.git"
      ],
      "outputs": [],
      "metadata": {
        "colab": {
          "base_uri": "https://localhost:8080/"
        },
        "id": "PlwlU-Mq-R65",
        "outputId": "b597ccc9-fb2d-43bd-8407-077c77dc8b14"
      }
    },
    {
      "cell_type": "code",
      "execution_count": null,
      "source": [
        "! pip -q install timm"
      ],
      "outputs": [],
      "metadata": {
        "colab": {
          "base_uri": "https://localhost:8080/"
        },
        "id": "KIo4HxdT_XJ6",
        "outputId": "9517cad7-af74-47bd-f892-386e56167ef4"
      }
    },
    {
      "cell_type": "code",
      "execution_count": null,
      "source": [
        "! mkdir output"
      ],
      "outputs": [],
      "metadata": {
        "id": "4A7mnF5S-yov"
      }
    },
    {
      "cell_type": "code",
      "execution_count": null,
      "source": [
        "import os\n",
        "\n",
        "def setup_data():\n",
        "    if not os.path.isfile('dataset_atmaCup11.zip'):\n",
        "        ! cp {PROJECT_DIR}/dataset_atmaCup11.zip .\n",
        "    if not os.path.isfile('photos.zip'):\n",
        "        ! unzip -q dataset_atmaCup11.zip\n",
        "    if not os.path.isdir('data/train/0'):\n",
        "        ! mkdir -p data/train/0\n",
        "        ! unzip -q photos.zip -d data/train/0\n",
        "\n",
        "PROJECT_DIR = '/content/drive/MyDrive/Colab\\ Notebooks/AtmaCup11'\n",
        "setup_data()"
      ],
      "outputs": [],
      "metadata": {
        "id": "qFVYlQJ5-jkd"
      }
    },
    {
      "cell_type": "code",
      "execution_count": null,
      "source": [
        "! cd /content/dino/ python -m torch.distributed.launch --nproc_per_node=1 main_dino.py \\\n",
        "    --arch 'vit_small' \\\n",
        "    --data_path='/content/data' \\\n",
        "    --output_dir='/content/output' \\\n",
        "    --epochs=100"
      ],
      "outputs": [],
      "metadata": {
        "id": "LukaemCt-n7j"
      }
    }
  ]
}